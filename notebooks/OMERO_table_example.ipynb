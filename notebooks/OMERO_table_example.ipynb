{
 "cells": [
  {
   "cell_type": "markdown",
   "metadata": {
    "collapsed": true
   },
   "source": [
    "### Basic example on how to use OMERO Python language bindings to interact with OMERO.tables\n",
    "See https://docs.openmicroscopy.org/latest/omero/developers/Python.html"
   ]
  },
  {
   "cell_type": "markdown",
   "metadata": {},
   "source": [
    "### Import Packages required to connect to OMERO"
   ]
  },
  {
   "cell_type": "code",
   "execution_count": 1,
   "metadata": {},
   "outputs": [],
   "source": [
    "import omero\n",
    "from omero.gateway import BlitzGateway\n",
    "from ipywidgets import widgets\n",
    "from getpass import getpass"
   ]
  },
  {
   "cell_type": "markdown",
   "metadata": {},
   "source": [
    "### Create a connection to an OMERO server"
   ]
  },
  {
   "cell_type": "code",
   "execution_count": 2,
   "metadata": {
    "scrolled": true
   },
   "outputs": [
    {
     "name": "stdout",
     "output_type": "stream",
     "text": [
      "Username: trainer-1\n",
      "OMERO Password: ········\n",
      "Connected as trainer-1\n"
     ]
    }
   ],
   "source": [
    "def connect(hostname, username, password):\n",
    "    \"\"\"\n",
    "    Connect to an OMERO server\n",
    "    :param hostname: Host name\n",
    "    :param username: User\n",
    "    :param password: Password\n",
    "    :return: Connected BlitzGateway\n",
    "    \"\"\"\n",
    "    conn = BlitzGateway(username, password,\n",
    "                        host=hostname, secure=True)\n",
    "    conn.connect()\n",
    "    conn.c.enableKeepAlive(60)\n",
    "    conn.SERVICE_OPTS.setOmeroGroup(\"-1\")\n",
    "    return conn\n",
    "\n",
    "HOST = 'wss://workshop.openmicroscopy.org/omero-ws'\n",
    "conn = connect(HOST, input(\"Username: \"),\n",
    "               getpass(\"OMERO Password: \"))\n",
    "print(\"Connected as {}\".format(conn.getUser().getName()))"
   ]
  },
  {
   "cell_type": "markdown",
   "metadata": {},
   "source": [
    "## Load the file annotations linked to the specified data\n",
    "OMERO.tables are file attachments."
   ]
  },
  {
   "cell_type": "code",
   "execution_count": 3,
   "metadata": {},
   "outputs": [
    {
     "name": "stdout",
     "output_type": "stream",
     "text": [
      "Enter ID:55\n"
     ]
    }
   ],
   "source": [
    "data = conn.getObject(\"Plate\", input(\"Enter ID:\"))"
   ]
  },
  {
   "cell_type": "code",
   "execution_count": 4,
   "metadata": {},
   "outputs": [
    {
     "name": "stdout",
     "output_type": "stream",
     "text": [
      "{'idr0002_cellprofiler': 98319}\n"
     ]
    }
   ],
   "source": [
    "attachments = {}\n",
    "for ann in data.listAnnotations():\n",
    "    if ann.OMERO_TYPE == omero.model.FileAnnotationI and ann.getNs() == \"openmicroscopy.org/omero/bulk_annotations\":\n",
    "        attachments[ann.getFile().getName()] = ann.getFile().getId()\n",
    "print(attachments)"
   ]
  },
  {
   "cell_type": "markdown",
   "metadata": {},
   "source": [
    "## Select the table to load"
   ]
  },
  {
   "cell_type": "code",
   "execution_count": 5,
   "metadata": {},
   "outputs": [
    {
     "data": {
      "application/vnd.jupyter.widget-view+json": {
       "model_id": "88b34c3bc2fa434fa9b116fa42c8d2f3",
       "version_major": 2,
       "version_minor": 0
      },
      "text/plain": [
       "Dropdown(description='Select table: ', options=('idr0002_cellprofiler',), value='idr0002_cellprofiler')"
      ]
     },
     "metadata": {},
     "output_type": "display_data"
    }
   ],
   "source": [
    "def dropdown_widget(values,\n",
    "                    dropdown_widget_name,\n",
    "                    displaywidget=False):\n",
    "\n",
    "    alg_sel = widgets.Dropdown(\n",
    "        options=values,\n",
    "        value=values[0],\n",
    "        description=dropdown_widget_name,\n",
    "        disabled=False,\n",
    "    )\n",
    "    if displaywidget is True:\n",
    "        display(alg_sel)\n",
    "    return alg_sel\n",
    "\n",
    "\n",
    "selection = dropdown_widget(\n",
    "    list(attachments.keys()),\n",
    "    'Select table: ', True\n",
    ")"
   ]
  },
  {
   "cell_type": "code",
   "execution_count": 6,
   "metadata": {},
   "outputs": [
    {
     "name": "stdout",
     "output_type": "stream",
     "text": [
      "98319\n"
     ]
    }
   ],
   "source": [
    "selected_id = attachments[selection.value]\n",
    "print(selected_id)"
   ]
  },
  {
   "cell_type": "markdown",
   "metadata": {},
   "source": [
    "## Load the selected table "
   ]
  },
  {
   "cell_type": "code",
   "execution_count": 7,
   "metadata": {},
   "outputs": [],
   "source": [
    "def load_table(conn, fileid):\n",
    "    \"\"\"\n",
    "    Query a table specified by fileid\n",
    "    Returns a dictionary with query result if successful, error information\n",
    "    otherwise.\n",
    "    :param conn: The BlitzGateway\n",
    "    :param file_id: The table's id\n",
    "    :return: The table\n",
    "    \"\"\"\n",
    "    r = conn.getSharedResources()\n",
    "    ctx = conn.createServiceOptsDict()\n",
    "    ctx.setOmeroGroup(\"-1\")\n",
    "    return r.openTable(omero.model.OriginalFileI(fileid), ctx)\n",
    "\n",
    "table = load_table(conn, selected_id)"
   ]
  },
  {
   "cell_type": "markdown",
   "metadata": {},
   "source": [
    "## Retrieve  rows according to a specific query"
   ]
  },
  {
   "cell_type": "code",
   "execution_count": 8,
   "metadata": {},
   "outputs": [
    {
     "name": "stdout",
     "output_type": "stream",
     "text": [
      "Row count: 96\n",
      "Query Results for Column:  Cell_Count\n",
      "    14.0\n",
      "    20.0\n",
      "    16.0\n",
      "    11.0\n",
      "    15.0\n",
      "    17.0\n",
      "    17.0\n",
      "    20.0\n",
      "    18.0\n",
      "    16.0\n"
     ]
    }
   ],
   "source": [
    "rowCount = table.getNumberOfRows()\n",
    "print(\"Row count:\", rowCount)\n",
    "name = \"Cell_Count\"\n",
    "# Prepare the query\n",
    "query = \"(%s > 5) & (%s <= 20)\" % (name, name)\n",
    "query_rows = table.getWhereList(query, variables={}, start=0, stop=rowCount, step=0)\n",
    "data = table.readCoordinates(query_rows)\n",
    "for col in data.columns:\n",
    "    if name == col.name:\n",
    "        print(\"Query Results for Column: \", col.name)\n",
    "        for v in col.values:\n",
    "            print(\"   \", v)"
   ]
  },
  {
   "cell_type": "markdown",
   "metadata": {},
   "source": [
    "## Close the table "
   ]
  },
  {
   "cell_type": "code",
   "execution_count": 9,
   "metadata": {},
   "outputs": [],
   "source": [
    "table.close()"
   ]
  },
  {
   "cell_type": "markdown",
   "metadata": {},
   "source": [
    "## Close the connection to the OMERO server"
   ]
  },
  {
   "cell_type": "code",
   "execution_count": 10,
   "metadata": {},
   "outputs": [],
   "source": [
    "conn.close()"
   ]
  },
  {
   "cell_type": "markdown",
   "metadata": {
    "collapsed": true
   },
   "source": [
    "### License\n",
    "Copyright (C) 2020 University of Dundee. All Rights Reserved.\n",
    "This program is free software; you can redistribute it and/or modify it\n",
    "under the terms of the GNU General Public License as published by the\n",
    "Free Software Foundation; either version 2 of the License, or\n",
    "(at your option) any later version.\n",
    "This program is distributed in the hope that it will be useful, but\n",
    "WITHOUT ANY WARRANTY; without even the implied warranty of MERCHANTABILITY\n",
    "or FITNESS FOR A PARTICULAR PURPOSE. See the GNU General Public License for\n",
    "more details. You should have received a copy of the GNU General\n",
    "Public License along with this program; if not, write to the\n",
    "Free Software Foundation,\n",
    "Inc., 51 Franklin Street, Fifth Floor, Boston, MA 02110-1301 USA."
   ]
  },
  {
   "cell_type": "code",
   "execution_count": null,
   "metadata": {},
   "outputs": [],
   "source": []
  }
 ],
 "metadata": {
  "kernelspec": {
   "display_name": "Python 3",
   "language": "python",
   "name": "python3"
  },
  "language_info": {
   "codemirror_mode": {
    "name": "ipython",
    "version": 3
   },
   "file_extension": ".py",
   "mimetype": "text/x-python",
   "name": "python",
   "nbconvert_exporter": "python",
   "pygments_lexer": "ipython3",
   "version": "3.7.8"
  }
 },
 "nbformat": 4,
 "nbformat_minor": 2
}
