{
 "cells": [
  {
   "cell_type": "markdown",
   "metadata": {},
   "source": [
    "# Simple FRAP script"
   ]
  },
  {
   "cell_type": "markdown",
   "metadata": {},
   "source": [
    "This script analyzes a fluorescence time-lapse image, measuring the intensity in a named Channel within a ROI. The intensity is plotted over time."
   ]
  },
  {
   "cell_type": "markdown",
   "metadata": {},
   "source": [
    "## Import packages"
   ]
  },
  {
   "cell_type": "code",
   "execution_count": null,
   "metadata": {},
   "outputs": [],
   "source": [
    "from omero.gateway import BlitzGateway, MapAnnotationWrapper\n",
    "from omero.model import EllipseI\n",
    "from PIL import Image\n",
    "import numpy as np\n",
    "import matplotlib\n",
    "from matplotlib import pyplot as plt\n",
    "from getpass import getpass\n",
    "# only used in the Jupyter notebook context for displaying a plot:\n",
    "from IPython.display import Image as ipImage, display"
   ]
  },
  {
   "cell_type": "markdown",
   "metadata": {},
   "source": [
    "## Create a connection to the OMERO Server\n",
    "\n",
    "You will be asked to enter username and password when running the next cell. Please press Enter after each. "
   ]
  },
  {
   "cell_type": "code",
   "execution_count": null,
   "metadata": {},
   "outputs": [],
   "source": [
    "def connect(hostname, username, password):\n",
    "    \"\"\"\n",
    "    Connect to an OMERO server\n",
    "    :param hostname: Host name\n",
    "    :param username: User\n",
    "    :param password: Password\n",
    "    :return: Connected BlitzGateway\n",
    "    \"\"\"\n",
    "    conn = BlitzGateway(username, password,\n",
    "                        host=hostname, secure=True)\n",
    "    conn.connect()\n",
    "    conn.c.enableKeepAlive(60)\n",
    "    return conn\n",
    "\n",
    "HOST = 'wss://workshop.openmicroscopy.org/omero-ws'\n",
    "conn = connect(HOST, input(\"Username: \"), getpass(\"OMERO Password: \"))\n",
    "print(\"Connected as {}\".format(conn.getUser().getName()))"
   ]
  },
  {
   "cell_type": "markdown",
   "metadata": {},
   "source": [
    "## Load Image"
   ]
  },
  {
   "cell_type": "code",
   "execution_count": null,
   "metadata": {},
   "outputs": [],
   "source": [
    "image_id = input(\"Image ID: \")\n",
    "img = conn.getObject(\"Image\", image_id)\n",
    "print(\"Image {} loaded\".format(img.getName()))"
   ]
  },
  {
   "cell_type": "markdown",
   "metadata": {},
   "source": [
    "## Get relevant channel index"
   ]
  },
  {
   "cell_type": "code",
   "execution_count": null,
   "metadata": {},
   "outputs": [],
   "source": [
    "def get_channel_index(image, label):\n",
    "    \"\"\"\n",
    "    Get the channel index of a specific channel\n",
    "    :param image: The image\n",
    "    :param label:  The channel name\n",
    "    :return: The channel index (None if not found)\n",
    "    \"\"\"\n",
    "    labels = image.getChannelLabels()\n",
    "    if label in labels:\n",
    "        idx = labels.index(label)\n",
    "        return idx\n",
    "    return None\n",
    "\n",
    "channel_name = input(\"Channel name: \")\n",
    "channel_idx = get_channel_index(img, channel_name)\n",
    "print(\"Channel index: {}\".format(channel_idx))\n"
   ]
  },
  {
   "cell_type": "markdown",
   "metadata": {},
   "source": [
    "## Get the ellipse ROI:"
   ]
  },
  {
   "cell_type": "code",
   "execution_count": null,
   "metadata": {},
   "outputs": [],
   "source": [
    "def get_ellipse_roi(conn, image):\n",
    "    \"\"\"\n",
    "    Get the first ellipse ROI found in the image\n",
    "    :param conn: The BlitzGateway\n",
    "    :param image: The Image\n",
    "    :return: The shape ID of the first ellipse ROI found\n",
    "    \"\"\"\n",
    "    roi_service = conn.getRoiService()\n",
    "    result = roi_service.findByImage(image.getId(), None)\n",
    "    shape_id = None\n",
    "    for roi in result.rois:\n",
    "        for s in roi.copyShapes():\n",
    "            if type(s) == EllipseI:\n",
    "                shape_id = s.id.val\n",
    "    return shape_id\n",
    "\n",
    "ellipse_id = get_ellipse_roi(conn, img)\n",
    "print(\"Shape ID: {}\".format(ellipse_id))"
   ]
  },
  {
   "cell_type": "markdown",
   "metadata": {},
   "source": [
    "## Get the mean intensities"
   ]
  },
  {
   "cell_type": "code",
   "execution_count": null,
   "metadata": {},
   "outputs": [],
   "source": [
    "def get_mean_intensities(conn, image, the_c, shape_id):\n",
    "    \"\"\"\n",
    "    Get the mean pixel intensities of a ROI in a time series image\n",
    "    :param conn: The BlitzGateway\n",
    "    :param image: The image\n",
    "    :param the_c: The channel index\n",
    "    :param shape_id: The ROI shape id\n",
    "    :return: List of mean intensity values (one for each timepoint)\n",
    "    \"\"\"\n",
    "    roi_service = conn.getRoiService()\n",
    "    the_z = 0\n",
    "    size_t = image.getSizeT()\n",
    "    meanvalues = []\n",
    "    for t in range(size_t):\n",
    "        stats = roi_service.getShapeStatsRestricted([shape_id],\n",
    "                                                    the_z, t, [the_c])\n",
    "        meanvalues.append(stats[0].mean[the_c])\n",
    "    return meanvalues\n",
    "\n",
    "values = get_mean_intensities(conn, img, channel_idx, ellipse_id)\n",
    "print(values)"
   ]
  },
  {
   "cell_type": "markdown",
   "metadata": {},
   "source": [
    "## Plot the data"
   ]
  },
  {
   "cell_type": "code",
   "execution_count": null,
   "metadata": {},
   "outputs": [],
   "source": [
    "def plot(values, plot_filename):\n",
    "    \"\"\"\n",
    "    Create a simple plot of the given values\n",
    "    and saves it.\n",
    "    :param values: The values\n",
    "    :param plot_filename: The file name\n",
    "    :return: Nothing\n",
    "    \"\"\"\n",
    "    matplotlib.use('Agg')\n",
    "    fig = plt.figure()\n",
    "    plt.subplot(111)\n",
    "    plt.plot(values)\n",
    "    fig.canvas.draw()\n",
    "    fig.savefig(plot_filename)\n",
    "    pil_img = Image.open(plot_filename)\n",
    "    pil_img.show()\n",
    "\n",
    "plot(values, \"plot.png\")\n",
    "display(ipImage(\"plot.png\"))"
   ]
  },
  {
   "cell_type": "markdown",
   "metadata": {},
   "source": [
    "## Save the results"
   ]
  },
  {
   "cell_type": "code",
   "execution_count": null,
   "metadata": {},
   "outputs": [],
   "source": [
    "def save_values(conn, image, values):\n",
    "    \"\"\"\n",
    "    Attach the values as map annotation to the image\n",
    "    :param conn: The BlitzGateway\n",
    "    :param image: The image\n",
    "    :param values: The values\n",
    "    :return: Nothing\n",
    "    \"\"\"\n",
    "    namespace = \"demo.simple_frap_data\"\n",
    "    key_value_data = [[str(t), str(value)] for t, value in enumerate(values)]\n",
    "    map_ann = MapAnnotationWrapper(conn)\n",
    "    map_ann.setNs(namespace)\n",
    "    map_ann.setValue(key_value_data)\n",
    "    map_ann.save()\n",
    "    image.linkAnnotation(map_ann)\n",
    "    \n",
    "save_values(conn, img, values)\n",
    "print(\"Values saved.\")"
   ]
  },
  {
   "cell_type": "code",
   "execution_count": null,
   "metadata": {},
   "outputs": [],
   "source": [
    "def save_plot(conn, image, plot_filename):\n",
    "    \"\"\"\n",
    "    Save the plot to OMERO\n",
    "    :param conn: The BlitzGateway\n",
    "    :param image: The image\n",
    "    :param plot_filename: The path to the plot image\n",
    "    :return: Nothing\n",
    "    \"\"\"\n",
    "    pil_img = Image.open(plot_filename)\n",
    "    np_array = np.asarray(pil_img)\n",
    "    red = np_array[::, ::, 0]\n",
    "    green = np_array[::, ::, 1]\n",
    "    blue = np_array[::, ::, 2]\n",
    "    plane_gen = iter([red, green, blue])\n",
    "    conn.createImageFromNumpySeq(plane_gen, plot_filename, sizeC=3,\n",
    "                                     dataset=image.getParent())\n",
    "    \n",
    "save_plot(conn, img, \"plot.png\")\n",
    "print(\"Plot saved.\")"
   ]
  },
  {
   "cell_type": "markdown",
   "metadata": {},
   "source": [
    "## Close the connection"
   ]
  },
  {
   "cell_type": "code",
   "execution_count": null,
   "metadata": {},
   "outputs": [],
   "source": [
    "def disconnect(conn):\n",
    "    \"\"\"\n",
    "    Disconnect from an OMERO server\n",
    "    :param conn: The BlitzGateway\n",
    "    \"\"\"\n",
    "    conn.close()\n",
    "\n",
    "disconnect(conn)"
   ]
  },
  {
   "cell_type": "markdown",
   "metadata": {},
   "source": [
    "### License\n",
    "Copyright (C) 2019-2020 University of Dundee. All Rights Reserved.\n",
    "This program is free software; you can redistribute it and/or modify it\n",
    "under the terms of the GNU General Public License as published by the\n",
    "Free Software Foundation; either version 2 of the License, or\n",
    "(at your option) any later version.\n",
    "This program is distributed in the hope that it will be useful, but\n",
    "WITHOUT ANY WARRANTY; without even the implied warranty of MERCHANTABILITY\n",
    "or FITNESS FOR A PARTICULAR PURPOSE. See the GNU General Public License for\n",
    "more details. You should have received a copy of the GNU General\n",
    "Public License along with this program; if not, write to the\n",
    "Free Software Foundation,\n",
    "Inc., 51 Franklin Street, Fifth Floor, Boston, MA 02110-1301 USA."
   ]
  }
 ],
 "metadata": {
  "kernelspec": {
   "display_name": "Python 3",
   "language": "python",
   "name": "python3"
  },
  "language_info": {
   "codemirror_mode": {
    "name": "ipython",
    "version": 3
   },
   "file_extension": ".py",
   "mimetype": "text/x-python",
   "name": "python",
   "nbconvert_exporter": "python",
   "pygments_lexer": "ipython3",
   "version": "3.7.6"
  }
 },
 "nbformat": 4,
 "nbformat_minor": 4
}
